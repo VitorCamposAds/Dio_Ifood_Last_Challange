{
  "nbformat": 4,
  "nbformat_minor": 0,
  "metadata": {
    "colab": {
      "provenance": []
    },
    "kernelspec": {
      "name": "python3",
      "display_name": "Python 3"
    },
    "language_info": {
      "name": "python"
    }
  },
  "cells": [
    {
      "cell_type": "code",
      "execution_count": 4,
      "metadata": {
        "colab": {
          "base_uri": "https://localhost:8080/"
        },
        "id": "Db2_JWt48q5X",
        "outputId": "fc0f9bd8-3aa5-422f-9b22-43e7b95c837e"
      },
      "outputs": [
        {
          "output_type": "stream",
          "name": "stdout",
          "text": [
            "\n",
            "MENU:\n",
            "1: Escolher guerreiro para atacar\n",
            "2: Sair do jogo\n",
            "Escolha uma opção: 1\n",
            "Escolha o guerreiro para atacar:\n",
            "1: Herói Mago\n",
            "2: Herói Guerreiro\n",
            "3: Herói Monge\n",
            "4: Herói Ninja\n",
            "Digite o número do guerreiro para atacar (ou '0' para voltar ao menu): 3\n",
            "O monge atacou usando usou artes marciais\n",
            "\n",
            "MENU:\n",
            "1: Escolher guerreiro para atacar\n",
            "2: Sair do jogo\n",
            "Escolha uma opção: 2\n",
            "\n",
            "Obrigado por jogar!\n"
          ]
        }
      ],
      "source": [
        "class Heroi:\n",
        "    def __init__(self, nome, idade, tipo):\n",
        "        self.nome = nome\n",
        "        self.idade = idade\n",
        "        self.tipo = tipo\n",
        "\n",
        "    def atacar(self):\n",
        "        ataque = \"\"\n",
        "        if self.tipo == 'mago':\n",
        "            ataque = 'usou magia'\n",
        "        elif self.tipo == 'guerreiro':\n",
        "            ataque = 'usou espada'\n",
        "        elif self.tipo == 'monge':\n",
        "            ataque = 'usou artes marciais'\n",
        "        elif self.tipo == 'ninja':\n",
        "            ataque = 'usou shuriken'\n",
        "\n",
        "        print(f\"O {self.tipo} atacou usando {ataque}\")\n",
        "\n",
        "# Criando uma lista de heróis\n",
        "herois = [\n",
        "    Heroi('Herói Mago', 30, 'mago'),\n",
        "    Heroi('Herói Guerreiro', 25, 'guerreiro'),\n",
        "    Heroi('Herói Monge', 35, 'monge'),\n",
        "    Heroi('Herói Ninja', 28, 'ninja')\n",
        "]\n",
        "\n",
        "def mostrar_menu():\n",
        "    print(\"\\nMENU:\")\n",
        "    print(\"1: Escolher guerreiro para atacar\")\n",
        "    print(\"2: Sair do jogo\")\n",
        "\n",
        "def agradecer_por_jogar():\n",
        "    print(\"\\nObrigado por jogar!\")\n",
        "\n",
        "# Loop principal do jogo\n",
        "while True:\n",
        "    mostrar_menu()\n",
        "    escolha = input(\"Escolha uma opção: \")\n",
        "\n",
        "    if escolha == '1':\n",
        "        print(\"Escolha o guerreiro para atacar:\")\n",
        "        for i, heroi in enumerate(herois):\n",
        "            print(f\"{i + 1}: {heroi.nome}\")\n",
        "\n",
        "        try:\n",
        "            escolha_guerreiro = int(input(\"Digite o número do guerreiro para atacar (ou '0' para voltar ao menu): \")) - 1\n",
        "\n",
        "            if escolha_guerreiro == -1:\n",
        "                continue\n",
        "            elif 0 <= escolha_guerreiro < len(herois):\n",
        "                heroi_escolhido = herois[escolha_guerreiro]\n",
        "                heroi_escolhido.atacar()\n",
        "            else:\n",
        "                print(\"Escolha inválida. Tente novamente.\")\n",
        "        except ValueError:\n",
        "            print(\"Por favor, insira um número válido.\")\n",
        "\n",
        "    elif escolha == '2':\n",
        "        agradecer_por_jogar()\n",
        "        break\n",
        "\n",
        "    else:\n",
        "        print(\"Opção inválida. Tente novamente.\")\n"
      ]
    }
  ]
}